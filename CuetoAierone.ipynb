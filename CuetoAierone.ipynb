{
  "nbformat": 4,
  "nbformat_minor": 0,
  "metadata": {
    "colab": {
      "provenance": [],
      "authorship_tag": "ABX9TyN7yzqSZP6vCAbYKChARFTm",
      "include_colab_link": true
    },
    "kernelspec": {
      "name": "python3",
      "display_name": "Python 3"
    },
    "language_info": {
      "name": "python"
    }
  },
  "cells": [
    {
      "cell_type": "markdown",
      "metadata": {
        "id": "view-in-github",
        "colab_type": "text"
      },
      "source": [
        "<a href=\"https://colab.research.google.com/github/Eronnn911/BSIS3/blob/main/CuetoAierone.ipynb\" target=\"_parent\"><img src=\"https://colab.research.google.com/assets/colab-badge.svg\" alt=\"Open In Colab\"/></a>"
      ]
    },
    {
      "cell_type": "code",
      "execution_count": null,
      "metadata": {
        "id": "RQwv9PE705P_"
      },
      "outputs": [],
      "source": [
        "import pandas as pd"
      ]
    },
    {
      "cell_type": "code",
      "source": [
        "df = pd.read_csv('https://raw.githubusercontent.com/Eronnn911/BSIS3/refs/heads/main/cars_dataset.csv')"
      ],
      "metadata": {
        "id": "sbSkJDOy1SDv"
      },
      "execution_count": null,
      "outputs": []
    },
    {
      "cell_type": "code",
      "source": [
        "print (\"Original row count\", len(df))"
      ],
      "metadata": {
        "colab": {
          "base_uri": "https://localhost:8080/"
        },
        "id": "vQo_JbFG1u0V",
        "outputId": "f448cf70-f937-4aa2-c3ee-6ce971c05b4f"
      },
      "execution_count": null,
      "outputs": [
        {
          "output_type": "stream",
          "name": "stdout",
          "text": [
            "Original row count 55\n"
          ]
        }
      ]
    },
    {
      "cell_type": "code",
      "source": [
        "df.info()"
      ],
      "metadata": {
        "colab": {
          "base_uri": "https://localhost:8080/"
        },
        "id": "OGQV8Hjc14u_",
        "outputId": "8588c880-bf6d-4bdb-c873-ab1f85278226"
      },
      "execution_count": null,
      "outputs": [
        {
          "output_type": "stream",
          "name": "stdout",
          "text": [
            "<class 'pandas.core.frame.DataFrame'>\n",
            "RangeIndex: 55 entries, 0 to 54\n",
            "Data columns (total 5 columns):\n",
            " #   Column  Non-Null Count  Dtype  \n",
            "---  ------  --------------  -----  \n",
            " 0   Brand   54 non-null     object \n",
            " 1   Model   52 non-null     object \n",
            " 2   Year    55 non-null     int64  \n",
            " 3   Color   55 non-null     object \n",
            " 4   Price   54 non-null     float64\n",
            "dtypes: float64(1), int64(1), object(3)\n",
            "memory usage: 2.3+ KB\n"
          ]
        }
      ]
    },
    {
      "cell_type": "code",
      "source": [
        "print(df)"
      ],
      "metadata": {
        "colab": {
          "base_uri": "https://localhost:8080/"
        },
        "id": "O86kHGqs1_bl",
        "outputId": "50f952d7-1b60-4817-9c3c-f9ff80096914"
      },
      "execution_count": null,
      "outputs": [
        {
          "output_type": "stream",
          "name": "stdout",
          "text": [
            "         Brand     Model  Year   Color    Price\n",
            "0       Toyota  3 Series  2022    Gray  32557.0\n",
            "1      Hyundai     Civic  2017   White  46775.0\n",
            "2        Honda   C-Class  2023   Green   9090.0\n",
            "3       Nissan  3 Series  2002  Yellow  21856.0\n",
            "4       Nissan  3 Series  2011   Green  43414.0\n",
            "5   Volkswagen   Corolla  2003  Yellow  33187.0\n",
            "6          BMW   Elantra  2021    Gray  16524.0\n",
            "7          Kia   Corolla  2003    Blue  47756.0\n",
            "8     Mercedes     Cruze  2008   Black  16028.0\n",
            "9          Kia   C-Class  2004   Black  38122.0\n",
            "10   Chevrolet     Focus  2003   Green  42981.0\n",
            "11      Toyota     Cruze  2021  Yellow  30361.0\n",
            "12      Nissan   Corolla  2016   White   5772.0\n",
            "13     Hyundai  3 Series  2003     Red  20696.0\n",
            "14         NaN   Elantra  2001    Gray  30196.0\n",
            "15         BMW     Focus  2021   Black  31762.0\n",
            "16  Volkswagen   C-Class  2013  Yellow  39039.0\n",
            "17   Chevrolet     Civic  2009    Gray   7826.0\n",
            "18   Chevrolet  Sportage  2003  Silver      NaN\n",
            "19       Honda       NaN  2005   Black  29965.0\n",
            "20      Nissan  3 Series  2013  Silver  22915.0\n",
            "21      Toyota   C-Class  2008   Green  38806.0\n",
            "22        Ford  3 Series  2020   Green  37639.0\n",
            "23        Ford     Civic  2020   Black  21638.0\n",
            "24         BMW   C-Class  2023   White  25289.0\n",
            "25      Nissan    Altima  2013    Blue  17078.0\n",
            "26   Chevrolet      Golf  2007   Green   6719.0\n",
            "27         Kia    Altima  2015     Red  43146.0\n",
            "28      Nissan    Altima  2013    Gray  42541.0\n",
            "29    Mercedes   C-Class  2018   Black  37136.0\n",
            "30      Toyota     Civic  2021     Red  45124.0\n",
            "31         BMW    Altima  2006  Yellow  44944.0\n",
            "32         BMW  3 Series  2006   White  10836.0\n",
            "33      Toyota   Corolla  2020    Gray  32753.0\n",
            "34   Chevrolet     Cruze  2012   Black   7127.0\n",
            "35         Kia   Corolla  2003   White  20294.0\n",
            "36   Chevrolet      Golf  2001    Gray  19411.0\n",
            "37        Ford   Corolla  2008    Blue  33849.0\n",
            "38         Kia     Focus  2014  Silver  10819.0\n",
            "39    Mercedes     Focus  2018     Red  37686.0\n",
            "40        Ford     Cruze  2018  Silver  20359.0\n",
            "41    Mercedes    Altima  2006  Yellow  13897.0\n",
            "42         Kia     Civic  2003  Yellow  40344.0\n",
            "43  Volkswagen   C-Class  2011     Red  24007.0\n",
            "44     Hyundai  Sportage  2020    Gray  48900.0\n",
            "45      Nissan       NaN  2014    Gray  31041.0\n",
            "46      Nissan       NaN  2009  Yellow  26243.0\n",
            "47    Mercedes  Sportage  2007    Gray  33526.0\n",
            "48      Toyota  3 Series  2001    Blue  27437.0\n",
            "49   Chevrolet  3 Series  2000  Yellow  37413.0\n",
            "50      Nissan    Altima  2013    Blue  17078.0\n",
            "51        Ford     Civic  2020   Black  21638.0\n",
            "52         BMW    Altima  2006  Yellow  44944.0\n",
            "53   Chevrolet     Focus  2003   Green  42981.0\n",
            "54       Honda   C-Class  2023   Green   9090.0\n"
          ]
        }
      ]
    },
    {
      "cell_type": "code",
      "source": [
        "print (df[df.isnull().any(axis=1)])"
      ],
      "metadata": {
        "colab": {
          "base_uri": "https://localhost:8080/"
        },
        "id": "D_U8Mtvn2AcM",
        "outputId": "65790e4b-ba20-4032-9532-e65899ff6766"
      },
      "execution_count": null,
      "outputs": [
        {
          "output_type": "stream",
          "name": "stdout",
          "text": [
            "        Brand     Model  Year   Color    Price\n",
            "14        NaN   Elantra  2001    Gray  30196.0\n",
            "18  Chevrolet  Sportage  2003  Silver      NaN\n",
            "19      Honda       NaN  2005   Black  29965.0\n",
            "45     Nissan       NaN  2014    Gray  31041.0\n",
            "46     Nissan       NaN  2009  Yellow  26243.0\n"
          ]
        }
      ]
    },
    {
      "cell_type": "code",
      "source": [
        "print(df.isnull().sum())"
      ],
      "metadata": {
        "colab": {
          "base_uri": "https://localhost:8080/"
        },
        "id": "CHCxTk1G2E68",
        "outputId": "2243b274-b6f0-4a17-8be5-edfc46ee0628"
      },
      "execution_count": null,
      "outputs": [
        {
          "output_type": "stream",
          "name": "stdout",
          "text": [
            "Brand    1\n",
            "Model    3\n",
            "Year     0\n",
            "Color    0\n",
            "Price    1\n",
            "dtype: int64\n"
          ]
        }
      ]
    },
    {
      "cell_type": "code",
      "source": [
        "df.fillna(0, inplace=True)"
      ],
      "metadata": {
        "id": "fEKEwqRk2HWB"
      },
      "execution_count": null,
      "outputs": []
    },
    {
      "cell_type": "code",
      "source": [
        "df[\"Brand\"] = df[\"Brand\"]. fillna(df[\"Brand\"].mode()[0])"
      ],
      "metadata": {
        "id": "69H5GZxX2KsU"
      },
      "execution_count": null,
      "outputs": []
    },
    {
      "cell_type": "code",
      "source": [
        "df[\"Brand\"] = pd.to_numeric(df[\"Brand\"], errors = 'coerce')"
      ],
      "metadata": {
        "id": "sm2W9YAV2K4r"
      },
      "execution_count": null,
      "outputs": []
    },
    {
      "cell_type": "code",
      "source": [
        "print(df)"
      ],
      "metadata": {
        "colab": {
          "base_uri": "https://localhost:8080/"
        },
        "id": "CJAJU4DK2xz-",
        "outputId": "2338771b-b1e2-4f03-ae42-c058baaf9fcc"
      },
      "execution_count": null,
      "outputs": [
        {
          "output_type": "stream",
          "name": "stdout",
          "text": [
            "    Brand     Model  Year   Color    Price\n",
            "0     NaN  3 Series  2022    Gray  32557.0\n",
            "1     NaN     Civic  2017   White  46775.0\n",
            "2     NaN   C-Class  2023   Green   9090.0\n",
            "3     NaN  3 Series  2002  Yellow  21856.0\n",
            "4     NaN  3 Series  2011   Green  43414.0\n",
            "5     NaN   Corolla  2003  Yellow  33187.0\n",
            "6     NaN   Elantra  2021    Gray  16524.0\n",
            "7     NaN   Corolla  2003    Blue  47756.0\n",
            "8     NaN     Cruze  2008   Black  16028.0\n",
            "9     NaN   C-Class  2004   Black  38122.0\n",
            "10    NaN     Focus  2003   Green  42981.0\n",
            "11    NaN     Cruze  2021  Yellow  30361.0\n",
            "12    NaN   Corolla  2016   White   5772.0\n",
            "13    NaN  3 Series  2003     Red  20696.0\n",
            "14    0.0   Elantra  2001    Gray  30196.0\n",
            "15    NaN     Focus  2021   Black  31762.0\n",
            "16    NaN   C-Class  2013  Yellow  39039.0\n",
            "17    NaN     Civic  2009    Gray   7826.0\n",
            "18    NaN  Sportage  2003  Silver      0.0\n",
            "19    NaN         0  2005   Black  29965.0\n",
            "20    NaN  3 Series  2013  Silver  22915.0\n",
            "21    NaN   C-Class  2008   Green  38806.0\n",
            "22    NaN  3 Series  2020   Green  37639.0\n",
            "23    NaN     Civic  2020   Black  21638.0\n",
            "24    NaN   C-Class  2023   White  25289.0\n",
            "25    NaN    Altima  2013    Blue  17078.0\n",
            "26    NaN      Golf  2007   Green   6719.0\n",
            "27    NaN    Altima  2015     Red  43146.0\n",
            "28    NaN    Altima  2013    Gray  42541.0\n",
            "29    NaN   C-Class  2018   Black  37136.0\n",
            "30    NaN     Civic  2021     Red  45124.0\n",
            "31    NaN    Altima  2006  Yellow  44944.0\n",
            "32    NaN  3 Series  2006   White  10836.0\n",
            "33    NaN   Corolla  2020    Gray  32753.0\n",
            "34    NaN     Cruze  2012   Black   7127.0\n",
            "35    NaN   Corolla  2003   White  20294.0\n",
            "36    NaN      Golf  2001    Gray  19411.0\n",
            "37    NaN   Corolla  2008    Blue  33849.0\n",
            "38    NaN     Focus  2014  Silver  10819.0\n",
            "39    NaN     Focus  2018     Red  37686.0\n",
            "40    NaN     Cruze  2018  Silver  20359.0\n",
            "41    NaN    Altima  2006  Yellow  13897.0\n",
            "42    NaN     Civic  2003  Yellow  40344.0\n",
            "43    NaN   C-Class  2011     Red  24007.0\n",
            "44    NaN  Sportage  2020    Gray  48900.0\n",
            "45    NaN         0  2014    Gray  31041.0\n",
            "46    NaN         0  2009  Yellow  26243.0\n",
            "47    NaN  Sportage  2007    Gray  33526.0\n",
            "48    NaN  3 Series  2001    Blue  27437.0\n",
            "49    NaN  3 Series  2000  Yellow  37413.0\n",
            "50    NaN    Altima  2013    Blue  17078.0\n",
            "51    NaN     Civic  2020   Black  21638.0\n",
            "52    NaN    Altima  2006  Yellow  44944.0\n",
            "53    NaN     Focus  2003   Green  42981.0\n",
            "54    NaN   C-Class  2023   Green   9090.0\n"
          ]
        }
      ]
    },
    {
      "cell_type": "code",
      "source": [
        "df_drop_rows = df.dropna()"
      ],
      "metadata": {
        "id": "T91PK3_V2x-_"
      },
      "execution_count": null,
      "outputs": []
    },
    {
      "cell_type": "code",
      "source": [
        "print (df[df.isnull().any(axis=1)])"
      ],
      "metadata": {
        "colab": {
          "base_uri": "https://localhost:8080/"
        },
        "id": "qeLeDSor22sy",
        "outputId": "e8de57ac-1072-4311-8369-bf576a6af2f6"
      },
      "execution_count": null,
      "outputs": [
        {
          "output_type": "stream",
          "name": "stdout",
          "text": [
            "    Brand     Model  Year   Color    Price\n",
            "0     NaN  3 Series  2022    Gray  32557.0\n",
            "1     NaN     Civic  2017   White  46775.0\n",
            "2     NaN   C-Class  2023   Green   9090.0\n",
            "3     NaN  3 Series  2002  Yellow  21856.0\n",
            "4     NaN  3 Series  2011   Green  43414.0\n",
            "5     NaN   Corolla  2003  Yellow  33187.0\n",
            "6     NaN   Elantra  2021    Gray  16524.0\n",
            "7     NaN   Corolla  2003    Blue  47756.0\n",
            "8     NaN     Cruze  2008   Black  16028.0\n",
            "9     NaN   C-Class  2004   Black  38122.0\n",
            "10    NaN     Focus  2003   Green  42981.0\n",
            "11    NaN     Cruze  2021  Yellow  30361.0\n",
            "12    NaN   Corolla  2016   White   5772.0\n",
            "13    NaN  3 Series  2003     Red  20696.0\n",
            "15    NaN     Focus  2021   Black  31762.0\n",
            "16    NaN   C-Class  2013  Yellow  39039.0\n",
            "17    NaN     Civic  2009    Gray   7826.0\n",
            "18    NaN  Sportage  2003  Silver      0.0\n",
            "19    NaN         0  2005   Black  29965.0\n",
            "20    NaN  3 Series  2013  Silver  22915.0\n",
            "21    NaN   C-Class  2008   Green  38806.0\n",
            "22    NaN  3 Series  2020   Green  37639.0\n",
            "23    NaN     Civic  2020   Black  21638.0\n",
            "24    NaN   C-Class  2023   White  25289.0\n",
            "25    NaN    Altima  2013    Blue  17078.0\n",
            "26    NaN      Golf  2007   Green   6719.0\n",
            "27    NaN    Altima  2015     Red  43146.0\n",
            "28    NaN    Altima  2013    Gray  42541.0\n",
            "29    NaN   C-Class  2018   Black  37136.0\n",
            "30    NaN     Civic  2021     Red  45124.0\n",
            "31    NaN    Altima  2006  Yellow  44944.0\n",
            "32    NaN  3 Series  2006   White  10836.0\n",
            "33    NaN   Corolla  2020    Gray  32753.0\n",
            "34    NaN     Cruze  2012   Black   7127.0\n",
            "35    NaN   Corolla  2003   White  20294.0\n",
            "36    NaN      Golf  2001    Gray  19411.0\n",
            "37    NaN   Corolla  2008    Blue  33849.0\n",
            "38    NaN     Focus  2014  Silver  10819.0\n",
            "39    NaN     Focus  2018     Red  37686.0\n",
            "40    NaN     Cruze  2018  Silver  20359.0\n",
            "41    NaN    Altima  2006  Yellow  13897.0\n",
            "42    NaN     Civic  2003  Yellow  40344.0\n",
            "43    NaN   C-Class  2011     Red  24007.0\n",
            "44    NaN  Sportage  2020    Gray  48900.0\n",
            "45    NaN         0  2014    Gray  31041.0\n",
            "46    NaN         0  2009  Yellow  26243.0\n",
            "47    NaN  Sportage  2007    Gray  33526.0\n",
            "48    NaN  3 Series  2001    Blue  27437.0\n",
            "49    NaN  3 Series  2000  Yellow  37413.0\n",
            "50    NaN    Altima  2013    Blue  17078.0\n",
            "51    NaN     Civic  2020   Black  21638.0\n",
            "52    NaN    Altima  2006  Yellow  44944.0\n",
            "53    NaN     Focus  2003   Green  42981.0\n",
            "54    NaN   C-Class  2023   Green   9090.0\n"
          ]
        }
      ]
    },
    {
      "cell_type": "code",
      "source": [
        "print(df)"
      ],
      "metadata": {
        "colab": {
          "base_uri": "https://localhost:8080/"
        },
        "id": "hP1IPZfZ235f",
        "outputId": "5d48bc7c-ddaf-4665-d8c2-db3fa63d68d2"
      },
      "execution_count": null,
      "outputs": [
        {
          "output_type": "stream",
          "name": "stdout",
          "text": [
            "    Brand     Model  Year   Color    Price\n",
            "0     NaN  3 Series  2022    Gray  32557.0\n",
            "1     NaN     Civic  2017   White  46775.0\n",
            "2     NaN   C-Class  2023   Green   9090.0\n",
            "3     NaN  3 Series  2002  Yellow  21856.0\n",
            "4     NaN  3 Series  2011   Green  43414.0\n",
            "5     NaN   Corolla  2003  Yellow  33187.0\n",
            "6     NaN   Elantra  2021    Gray  16524.0\n",
            "7     NaN   Corolla  2003    Blue  47756.0\n",
            "8     NaN     Cruze  2008   Black  16028.0\n",
            "9     NaN   C-Class  2004   Black  38122.0\n",
            "10    NaN     Focus  2003   Green  42981.0\n",
            "11    NaN     Cruze  2021  Yellow  30361.0\n",
            "12    NaN   Corolla  2016   White   5772.0\n",
            "13    NaN  3 Series  2003     Red  20696.0\n",
            "14    0.0   Elantra  2001    Gray  30196.0\n",
            "15    NaN     Focus  2021   Black  31762.0\n",
            "16    NaN   C-Class  2013  Yellow  39039.0\n",
            "17    NaN     Civic  2009    Gray   7826.0\n",
            "18    NaN  Sportage  2003  Silver      0.0\n",
            "19    NaN         0  2005   Black  29965.0\n",
            "20    NaN  3 Series  2013  Silver  22915.0\n",
            "21    NaN   C-Class  2008   Green  38806.0\n",
            "22    NaN  3 Series  2020   Green  37639.0\n",
            "23    NaN     Civic  2020   Black  21638.0\n",
            "24    NaN   C-Class  2023   White  25289.0\n",
            "25    NaN    Altima  2013    Blue  17078.0\n",
            "26    NaN      Golf  2007   Green   6719.0\n",
            "27    NaN    Altima  2015     Red  43146.0\n",
            "28    NaN    Altima  2013    Gray  42541.0\n",
            "29    NaN   C-Class  2018   Black  37136.0\n",
            "30    NaN     Civic  2021     Red  45124.0\n",
            "31    NaN    Altima  2006  Yellow  44944.0\n",
            "32    NaN  3 Series  2006   White  10836.0\n",
            "33    NaN   Corolla  2020    Gray  32753.0\n",
            "34    NaN     Cruze  2012   Black   7127.0\n",
            "35    NaN   Corolla  2003   White  20294.0\n",
            "36    NaN      Golf  2001    Gray  19411.0\n",
            "37    NaN   Corolla  2008    Blue  33849.0\n",
            "38    NaN     Focus  2014  Silver  10819.0\n",
            "39    NaN     Focus  2018     Red  37686.0\n",
            "40    NaN     Cruze  2018  Silver  20359.0\n",
            "41    NaN    Altima  2006  Yellow  13897.0\n",
            "42    NaN     Civic  2003  Yellow  40344.0\n",
            "43    NaN   C-Class  2011     Red  24007.0\n",
            "44    NaN  Sportage  2020    Gray  48900.0\n",
            "45    NaN         0  2014    Gray  31041.0\n",
            "46    NaN         0  2009  Yellow  26243.0\n",
            "47    NaN  Sportage  2007    Gray  33526.0\n",
            "48    NaN  3 Series  2001    Blue  27437.0\n",
            "49    NaN  3 Series  2000  Yellow  37413.0\n",
            "50    NaN    Altima  2013    Blue  17078.0\n",
            "51    NaN     Civic  2020   Black  21638.0\n",
            "52    NaN    Altima  2006  Yellow  44944.0\n",
            "53    NaN     Focus  2003   Green  42981.0\n",
            "54    NaN   C-Class  2023   Green   9090.0\n"
          ]
        }
      ]
    },
    {
      "cell_type": "code",
      "source": [
        "print(df.isnull().sum())"
      ],
      "metadata": {
        "colab": {
          "base_uri": "https://localhost:8080/"
        },
        "id": "riAz-xYy3AxZ",
        "outputId": "15b36c3a-49d0-46cc-87a3-87ed0fa75697"
      },
      "execution_count": null,
      "outputs": [
        {
          "output_type": "stream",
          "name": "stdout",
          "text": [
            "Brand    54\n",
            "Model     0\n",
            "Year      0\n",
            "Color     0\n",
            "Price     0\n",
            "dtype: int64\n"
          ]
        }
      ]
    },
    {
      "cell_type": "code",
      "source": [
        "print (df[df.isnull().any(axis=1)])"
      ],
      "metadata": {
        "colab": {
          "base_uri": "https://localhost:8080/"
        },
        "id": "iTRYmvLg3Dys",
        "outputId": "f8f413b9-847a-41af-a132-e3ed9d7f5a0c"
      },
      "execution_count": null,
      "outputs": [
        {
          "output_type": "stream",
          "name": "stdout",
          "text": [
            "    Brand     Model  Year   Color    Price\n",
            "0     NaN  3 Series  2022    Gray  32557.0\n",
            "1     NaN     Civic  2017   White  46775.0\n",
            "2     NaN   C-Class  2023   Green   9090.0\n",
            "3     NaN  3 Series  2002  Yellow  21856.0\n",
            "4     NaN  3 Series  2011   Green  43414.0\n",
            "5     NaN   Corolla  2003  Yellow  33187.0\n",
            "6     NaN   Elantra  2021    Gray  16524.0\n",
            "7     NaN   Corolla  2003    Blue  47756.0\n",
            "8     NaN     Cruze  2008   Black  16028.0\n",
            "9     NaN   C-Class  2004   Black  38122.0\n",
            "10    NaN     Focus  2003   Green  42981.0\n",
            "11    NaN     Cruze  2021  Yellow  30361.0\n",
            "12    NaN   Corolla  2016   White   5772.0\n",
            "13    NaN  3 Series  2003     Red  20696.0\n",
            "15    NaN     Focus  2021   Black  31762.0\n",
            "16    NaN   C-Class  2013  Yellow  39039.0\n",
            "17    NaN     Civic  2009    Gray   7826.0\n",
            "18    NaN  Sportage  2003  Silver      0.0\n",
            "19    NaN         0  2005   Black  29965.0\n",
            "20    NaN  3 Series  2013  Silver  22915.0\n",
            "21    NaN   C-Class  2008   Green  38806.0\n",
            "22    NaN  3 Series  2020   Green  37639.0\n",
            "23    NaN     Civic  2020   Black  21638.0\n",
            "24    NaN   C-Class  2023   White  25289.0\n",
            "25    NaN    Altima  2013    Blue  17078.0\n",
            "26    NaN      Golf  2007   Green   6719.0\n",
            "27    NaN    Altima  2015     Red  43146.0\n",
            "28    NaN    Altima  2013    Gray  42541.0\n",
            "29    NaN   C-Class  2018   Black  37136.0\n",
            "30    NaN     Civic  2021     Red  45124.0\n",
            "31    NaN    Altima  2006  Yellow  44944.0\n",
            "32    NaN  3 Series  2006   White  10836.0\n",
            "33    NaN   Corolla  2020    Gray  32753.0\n",
            "34    NaN     Cruze  2012   Black   7127.0\n",
            "35    NaN   Corolla  2003   White  20294.0\n",
            "36    NaN      Golf  2001    Gray  19411.0\n",
            "37    NaN   Corolla  2008    Blue  33849.0\n",
            "38    NaN     Focus  2014  Silver  10819.0\n",
            "39    NaN     Focus  2018     Red  37686.0\n",
            "40    NaN     Cruze  2018  Silver  20359.0\n",
            "41    NaN    Altima  2006  Yellow  13897.0\n",
            "42    NaN     Civic  2003  Yellow  40344.0\n",
            "43    NaN   C-Class  2011     Red  24007.0\n",
            "44    NaN  Sportage  2020    Gray  48900.0\n",
            "45    NaN         0  2014    Gray  31041.0\n",
            "46    NaN         0  2009  Yellow  26243.0\n",
            "47    NaN  Sportage  2007    Gray  33526.0\n",
            "48    NaN  3 Series  2001    Blue  27437.0\n",
            "49    NaN  3 Series  2000  Yellow  37413.0\n",
            "50    NaN    Altima  2013    Blue  17078.0\n",
            "51    NaN     Civic  2020   Black  21638.0\n",
            "52    NaN    Altima  2006  Yellow  44944.0\n",
            "53    NaN     Focus  2003   Green  42981.0\n",
            "54    NaN   C-Class  2023   Green   9090.0\n"
          ]
        }
      ]
    },
    {
      "cell_type": "code",
      "source": [
        "df.info()"
      ],
      "metadata": {
        "colab": {
          "base_uri": "https://localhost:8080/"
        },
        "id": "of-zcr_R3GGc",
        "outputId": "f47b9aec-bc49-4a71-ef66-ff18466bed66"
      },
      "execution_count": null,
      "outputs": [
        {
          "output_type": "stream",
          "name": "stdout",
          "text": [
            "<class 'pandas.core.frame.DataFrame'>\n",
            "RangeIndex: 55 entries, 0 to 54\n",
            "Data columns (total 5 columns):\n",
            " #   Column  Non-Null Count  Dtype  \n",
            "---  ------  --------------  -----  \n",
            " 0   Brand   1 non-null      float64\n",
            " 1   Model   55 non-null     object \n",
            " 2   Year    55 non-null     int64  \n",
            " 3   Color   55 non-null     object \n",
            " 4   Price   55 non-null     float64\n",
            "dtypes: float64(2), int64(1), object(2)\n",
            "memory usage: 2.3+ KB\n"
          ]
        }
      ]
    }
  ]
}